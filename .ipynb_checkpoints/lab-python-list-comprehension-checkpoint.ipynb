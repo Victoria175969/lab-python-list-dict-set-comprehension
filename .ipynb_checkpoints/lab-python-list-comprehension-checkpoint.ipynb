{
 "cells": [
  {
   "cell_type": "markdown",
   "id": "25d7736c-ba17-4aff-b6bb-66eba20fbf4e",
   "metadata": {},
   "source": [
    "# Lab | List, Dict and Set Comprehension"
   ]
  },
  {
   "cell_type": "markdown",
   "id": "7dd3cbde-675a-4b81-92c3-f728846dbe06",
   "metadata": {},
   "source": [
    "## Exercise: Managing Customer Orders Optimized with Comprehension"
   ]
  },
  {
   "cell_type": "markdown",
   "id": "5d500160-2fb7-4777-b5e4-09d45ebaf328",
   "metadata": {},
   "source": [
    "In the previous exercise, you developed a program to manage customer orders and inventory. Now, let's take it a step further and incorporate comprehension into your code.\n",
    "\n",
    "Follow the steps below to complete the exercise:\n",
    "\n",
    "1. Review your code from the previous exercise and identify areas where you can apply comprehension to simplify and streamline your code. \n",
    "\n",
    "    - *Hint: Apply it to initialize inventory, updating the inventory and printing the updated inventory.*\n",
    "    \n",
    "    - For example, in initializing the inventory, we could have:\n",
    "    \n",
    "        ```python\n",
    "        def initialize_inventory(products):\n",
    "            inventory = {product: int(input(f\"Enter the quantity of {product}s available: \")) for product in products}\n",
    "            return inventory\n",
    "\n",
    "        ```\n",
    "<br>\n",
    "    \n",
    "    \n",
    "2. Modify the function get_customer_orders so it prompts the user to enter the number of customer orders and gathers the product names using a loop and user input. Use comprehension.\n",
    "\n",
    "3. Add a new function to calculate the total price of the customer order. For each product in customer_orders, prompt the user to enter the price of that product. Use comprehension to calculate the total price. Note: assume that the user can only have 1 unit of each product.\n",
    "\n",
    "4. Modify the update_inventory function to remove the product from the inventory if its quantity becomes zero after fulfilling the customer orders. Use comprehension to filter out the products with a quantity of zero from the inventory.\n",
    "\n",
    "5. Print the total price of the customer order.\n",
    "\n",
    "Your code should produce output similar to the following:\n",
    "\n",
    "```python\n",
    "Enter the quantity of t-shirts available:  5\n",
    "Enter the quantity of mugs available:  4\n",
    "Enter the quantity of hats available:  3\n",
    "Enter the quantity of books available:  2\n",
    "Enter the quantity of keychains available:  1\n",
    "Enter the number of customer orders:  2\n",
    "Enter the name of a product that a customer wants to order:  hat\n",
    "Enter the name of a product that a customer wants to order:  keychain\n",
    "\n",
    "Order Statistics:\n",
    "Total Products Ordered: 2\n",
    "Percentage of Unique Products Ordered: 40.0\n",
    "\n",
    "Updated Inventory:\n",
    "t-shirt: 5\n",
    "mug: 4\n",
    "hat: 2\n",
    "book: 2\n",
    "Enter the price of keychain:  5\n",
    "Enter the price of hat:  10\n",
    "Total Price: 15.0\n",
    "\n",
    "```\n"
   ]
  },
  {
   "cell_type": "code",
   "execution_count": 38,
   "id": "0e71e159-85fa-42bb-ab5a-7479330aa7ac",
   "metadata": {},
   "outputs": [
    {
     "name": "stdin",
     "output_type": "stream",
     "text": [
      "Please enter the quantity of t-shirts:  2\n",
      "Please enter the quantity of mugs:  2\n",
      "Please enter the quantity of hats:  2\n",
      "Please enter the quantity of books:  2\n",
      "Please enter the quantity of keychains:  2\n",
      "Please enter the number of products in your order: 4\n",
      "Enter the item you would like to purchase:  hat\n",
      "Enter the item you would like to purchase:  mug\n",
      "Enter the item you would like to purchase:  book\n",
      "Enter the item you would like to purchase:  t-shirt\n",
      "Please enter the price of the mug:  3\n",
      "Please enter the price of the book:  5\n",
      "Please enter the price of the t-shirt:  6\n",
      "Please enter the price of the hat:  10\n"
     ]
    },
    {
     "name": "stdout",
     "output_type": "stream",
     "text": [
      "Total products ordered: 4\n",
      "Percentage of products ordered: 80.0\n",
      "Updated inventory: {'t-shirt': 1, 'mug': 1, 'hat': 1, 'book': 1, 'keychain': 1}\n",
      "The total price of your order is 24\n"
     ]
    }
   ],
   "source": [
    "def initialize_inventory (products):\n",
    "    inventory = {product: int(input(f\"Please enter the quantity of {product}s: \")) for product in products}\n",
    "    return inventory\n",
    "\n",
    "def get_customer_orders():\n",
    "    number_of_products = int(input(\"Please enter the number of products in your order:\" )) \n",
    "    customer_orders = {input(\"Enter the item you would like to purchase: \") for number in range(0, number_of_products)}\n",
    "    return customer_orders\n",
    "\n",
    "def calculate_total(customer_orders): \n",
    "    prices = [int(input(f\"Please enter the price of the {product}: \")) for product in customer_orders] \n",
    "    return sum(prices)\n",
    "\n",
    "def update_inventory(customer_orders, inventory): \n",
    "    updated_inventory = {product: quantity - 1 for (product, quantity) in inventory.items() if quantity > 1} \n",
    "    return updated_inventory\n",
    "\n",
    "def calculate_order_statistics(customer_orders, products): \n",
    "    return [len(customer_orders), len(customer_orders) / len(products) * 100]\n",
    "\n",
    "def print_order_statistics(order_statistics): \n",
    "    print(f\"Total products ordered: {order_statistics[0]}\\nPercentage of products ordered: {order_statistics[1]}\")\n",
    "\n",
    "def print_updated_inventory(inventory):\n",
    "    print(f\"Updated inventory: {inventory}\")\n",
    "\n",
    "products = [\"t-shirt\", \"mug\", \"hat\", \"book\", \"keychain\"]\n",
    "\n",
    "inventory = initialize_inventory(products) \n",
    "customer_orders = get_customer_orders() \n",
    "updated_inventory = update_inventory(customer_orders, inventory) \n",
    "order_statistics = calculate_order_statistics(customer_orders, products) \n",
    "order_total = calculate_total(customer_orders)\n",
    "print_order_statistics(order_statistics)\n",
    "print_updated_inventory(updated_inventory) \n",
    "print(f\"The total price of your order is {order_total}\")   "
   ]
  },
  {
   "cell_type": "code",
   "execution_count": null,
   "id": "ee230f4d-0d38-4c27-b361-7f093d697aee",
   "metadata": {},
   "outputs": [],
   "source": []
  }
 ],
 "metadata": {
  "kernelspec": {
   "display_name": "Python 3 (ipykernel)",
   "language": "python",
   "name": "python3"
  },
  "language_info": {
   "codemirror_mode": {
    "name": "ipython",
    "version": 3
   },
   "file_extension": ".py",
   "mimetype": "text/x-python",
   "name": "python",
   "nbconvert_exporter": "python",
   "pygments_lexer": "ipython3",
   "version": "3.12.3"
  }
 },
 "nbformat": 4,
 "nbformat_minor": 5
}
